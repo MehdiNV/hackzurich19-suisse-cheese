{
 "cells": [
  {
   "cell_type": "markdown",
   "metadata": {},
   "source": [
    "# Welome to the HackZurich Credit Suisse Challenge!\n",
    "\n",
    "First before you begin you will have to gain access to the IS&P research data and the Dow Jones news feed. \n",
    "To get to the data you will need to do the following: \n",
    "    \n",
    "1.  Clone the github repo (which you've probably already done) located here. \n",
    "2.  Locate the cert file within the repo and make note of it (you will insert the file path below).\n",
    "3.  Get the ElasticSearch password from one of the Credit Suisse organizers.\n",
    "4.  Make sure you have PIP installed the latest SSL and ElasticSearch Libraries.\n",
    "5.  Next in the code below you will have to point the context variable to the cert you just downloaded from this git     repo and enter the password we will give you in the http_auth argument.  \n",
    "6.  Run the code and you are off to the races!  \n",
    "\n",
    "##  So whats in the data? and where and how are you processing it?\n",
    "We are using ElasticSearch 7.1 hosted within a Kubernetes cluster on the Google Cloud running within Zurich.  \n",
    "If you are unfamiliar with ElasticSearch you can read more about it here:  https://www.elastic.co, \n",
    "be sure to read about the 7.1 version docs.\n",
    "                           \n",
    "## There are two indexes within the ES cluster you will be connecting to:\n",
    "1.  isp: This is the internal Credit Suisse research.  There are 10,000 documents in this index.  The data model is \n",
    "    pretty straight forward once you begin hitting the cluster and digging in.\n",
    "2.  dj:  This is the DowJones machine readable news feed.  The data model is much more robust than IS&P's so below you find an example.\n",
    "\n",
    "## GOOD LUCK!"
   ]
  },
  {
   "cell_type": "code",
   "execution_count": 45,
   "metadata": {},
   "outputs": [],
   "source": [
    "import requests, json, os\n",
    "from elasticsearch import Elasticsearch\n",
    "from ssl import create_default_context\n",
    "import datetime\n",
    "import operator\n",
    "\n",
    "context = create_default_context(cafile=r\"C:\\Users\\Tyukhova\\Desktop\\HackZurich\\HackZurich2019\\client.cer\")\n",
    "es = Elasticsearch(['https://data.schnitzel.tech:9200'], http_auth=('hack_zurich', 'punctualunicorns'), ssl_context=context)\n"
   ]
  },
  {
   "cell_type": "code",
   "execution_count": 46,
   "metadata": {},
   "outputs": [
    {
     "data": {
      "text/plain": [
       "{'cluster_name': 'hack-zurich-es-cluster',\n",
       " 'cluster_uuid': 'HQ9h7ToKTQuFf8D8Sxf69w',\n",
       " 'name': 'hack-zurich-es-cluster-es-b96tlj45g6',\n",
       " 'tagline': 'You Know, for Search',\n",
       " 'version': {'build_date': '2019-05-16T00:43:15.323135Z',\n",
       "  'build_flavor': 'default',\n",
       "  'build_hash': '606a173',\n",
       "  'build_snapshot': False,\n",
       "  'build_type': 'docker',\n",
       "  'lucene_version': '8.0.0',\n",
       "  'minimum_index_compatibility_version': '6.0.0-beta1',\n",
       "  'minimum_wire_compatibility_version': '6.8.0',\n",
       "  'number': '7.1.0'}}"
      ]
     },
     "execution_count": 46,
     "metadata": {},
     "output_type": "execute_result"
    }
   ],
   "source": [
    "es.info()"
   ]
  },
  {
   "cell_type": "markdown",
   "metadata": {},
   "source": [
    "### Querying the cluster.\n",
    "Now you are connected to the ES Cluster and we can begin to query the results.  See below for a sample query and formatting the results."
   ]
  },
  {
   "cell_type": "code",
   "execution_count": null,
   "metadata": {
    "collapsed": true
   },
   "outputs": [],
   "source": [
    "key_words = {\"U.S.\":0, \n",
    "             \"Switzerland\":0, \n",
    "             \"San Paolo\":0,\n",
    "             \"China\":0,\n",
    "             \"United Nations\": 0,\n",
    "             \"EU\":0,\n",
    "             \"sanctions\":0, \n",
    "             \"memorandum\":0,\n",
    "             \"elections\":0,\n",
    "             \"meeting\":0,\n",
    "             \"Donald Trump\":0,\n",
    "             \"Boris Jonson\":0,\n",
    "             \"Kim Kardashian\":0,\n",
    "             \"Greta Thunberg\" : 0,\n",
    "             \"carbon emission\":0,\n",
    "             \"flood\":0,\n",
    "             \"rain forest\": 0,\n",
    "             \"temperature\": 0,\n",
    "             \"pollution\": 0,\n",
    "             \"cyber attack\": 0,\n",
    "             \"malware\":0,\n",
    "             \"smartphones\":0,\n",
    "             \"drones\":0,\n",
    "             \"network\":0,\n",
    "             \"HUAWEI\": 0,\n",
    "             \"Siemens\": 0,\n",
    "             \"Google\":0,\n",
    "             \"Microsoft\":0,\n",
    "             \"crude oil\":0,\n",
    "             \"measles\":0,\n",
    "             \"cancer\":0,\n",
    "             \"penguins\": 0,\n",
    "             \"film festival\":0\n",
    "            }\n",
    "\n"
   ]
  },
  {
   "cell_type": "code",
   "execution_count": 609,
   "metadata": {
    "scrolled": true
   },
   "outputs": [
    {
     "name": "stdout",
     "output_type": "stream",
     "text": [
      "{'U.S.': 2162, 'Switzerland': 82, 'San Paolo': 426, 'China': 1236, 'United Nations': 2947, 'EU': 393, 'sanctions': 378, 'memorandum': 93, 'elections': 562, 'meeting': 1502, 'Donald Trump': 1363, 'Boris Jonson': 138, 'Kim Kardashian': 223, 'Greta Thunberg': 4, 'carbon emission': 201, 'flood': 88, 'rain forest': 235, 'temperature': 79, 'pollution': 67, 'cyber attack': 1705, 'malware': 76, 'smartphones': 93, 'drones': 120, 'network': 1015, 'HUAWEI': 130, 'Siemens': 26, 'Google': 225, 'Microsoft': 139, 'crude oil': 645, 'measles': 7, 'cancer': 136, 'pinguins': 0, 'film festival': 457}\n"
     ]
    }
   ],
   "source": [
    "my_topic = \"cyber security \"\n",
    "for key in key_words:\n",
    "    res = es.search(index=\"dj\", body={\n",
    "        \"query\": {\n",
    "            \"bool\":{\n",
    "                   \"must\": [\n",
    "                       { \"match\": {\"body\" : key} },\n",
    "                       { \"match\": {\"body\" : my_topic} }\n",
    "                       ],\n",
    "                    \"filter\" : { \n",
    "                        \"range\": {\n",
    "                        \"publication_datetime\" : {\"gte\":\"now-60d\", \"lt\" : \"now\"}\n",
    "                    }\n",
    "                }\n",
    "            }\n",
    "        }\n",
    "    }\n",
    "    )\n",
    "    key_words[key] = res['hits']['total']['value']"
   ]
  },
  {
   "cell_type": "code",
   "execution_count": 640,
   "metadata": {},
   "outputs": [
    {
     "name": "stdout",
     "output_type": "stream",
     "text": [
      "[('United Nations', 2947), ('U.S.', 2162), ('cyber attack', 1705), ('meeting', 1502), ('Donald Trump', 1363), ('China', 1236), ('network', 1015), ('crude oil', 645), ('elections', 562), ('film festival', 457), ('San Paolo', 426), ('EU', 393), ('sanctions', 378), ('rain forest', 235), ('Google', 225), ('Kim Kardashian', 223), ('carbon emission', 201), ('Microsoft', 139), ('Boris Jonson', 138), ('cancer', 136), ('HUAWEI', 130), ('drones', 120), ('memorandum', 93), ('smartphones', 93), ('flood', 88), ('Switzerland', 82), ('temperature', 79), ('malware', 76), ('pollution', 67), ('Siemens', 26), ('measles', 7), ('Greta Thunberg', 4), ('pinguins', 0)]\n",
      "[['United Nations', 'U.S.'], ['United Nations', 'cyber attack'], ['United Nations', 'meeting'], ['United Nations', 'Donald Trump'], ['U.S.', 'cyber attack'], ['U.S.', 'meeting'], ['U.S.', 'Donald Trump'], ['cyber attack', 'meeting'], ['cyber attack', 'Donald Trump'], ['meeting', 'Donald Trump']]\n"
     ]
    }
   ],
   "source": [
    "sorted_key_words = sorted(key_words.items(), key=operator.itemgetter(1), reverse = True)\n",
    "top_values = 5;\n",
    "list_of_pairs = []\n",
    "for i in range(0,5):\n",
    "    for j in range(i+1,5):\n",
    "        list_of_pairs.append([sorted_key_words[i][0],sorted_key_words[j][0]])"
   ]
  },
  {
   "cell_type": "code",
   "execution_count": 641,
   "metadata": {},
   "outputs": [],
   "source": [
    "frequencies_word_pairs = []\n",
    "for word_pair in list_of_pairs:\n",
    "    res = es.search(index=\"dj\", body={\n",
    "        \"query\": {\n",
    "            \"bool\":{\n",
    "                   \"must\": [\n",
    "                       { \"match\": {\"body\" : word_pair[0]} },\n",
    "                       { \"match\": {\"body\" : word_pair[1]} },\n",
    "                       { \"match\": {\"body\" : my_topic} }\n",
    "                       ],\n",
    "                    \"filter\" : { \n",
    "                        \"range\": {\n",
    "                        \"publication_datetime\" : {\"gte\":\"now-60d\", \"lt\" : \"now\"}\n",
    "                    }\n",
    "                }\n",
    "            }\n",
    "        }\n",
    "    }\n",
    "    )\n",
    "    frequencies_word_pairs.append(res['hits']['total']['value'])\n",
    "\n",
    "\n",
    "\n"
   ]
  },
  {
   "cell_type": "code",
   "execution_count": 660,
   "metadata": {},
   "outputs": [],
   "source": [
    "frequency_key_pairs = zip(list_of_pairs, frequencies_word_pairs)\n",
    "sorted_key_pairs = sorted(frequency_key_pairs, key=operator.itemgetter(1), reverse = True)\n",
    "\n",
    "target_pair = sorted_key_pairs[0][0]\n",
    "\n"
   ]
  },
  {
   "cell_type": "code",
   "execution_count": 723,
   "metadata": {},
   "outputs": [
    {
     "name": "stdout",
     "output_type": "stream",
     "text": [
      "{'_index': 'dj', '_type': '_doc', '_id': 'RWGsdG0Bzcm26q2GdUeH', '_score': 13.161455, '_source': {'an': 'RVESEN0020190802ef8200e4d', 'modification_datetime': '1564765603000', 'ingestion_datetime': '1564765603000', 'publication_date': '1564765583000', 'publication_datetime': '1564765583000', 'snippet': 'UNITED NATIONS, August 2 (Sputnik) - The United Nations urges all parties to the conflict in Syria to allow a new delivery of humanitarian aid to the Rukban refugee camp, UN Office for the Coordination of Humanitarian Affairs (OCHA) spokesperson Russell Geekie told Sputnik on Friday.\\n\\n“The United Nations… calls on all parties to allow another delivery,\" Geekie said.“[It] continues to advocate and call for safe, sustained and unimpeded humanitarian access to Rukban, as well as to all those in need throughout Syria\\u200b\\u200b\\u200b.”', 'body': \"In February, a United Nations convoy distributed food, health and nutrition supplies, hygiene kits and recreational materials to refugees in Rukban.\\xa0\\n\\nHowever, Russia’s National Center for State Defense Control head Mikhail Mizintsev said in July that the humanitarian aid for the Rukban camp ends up in the hands of terrorists regardless of the United Nations’ claims the aid distribution process is transparent.\\n\\nGeekie said the United Nations is in engaged discussions with the Syrian government, Russia and the United States to ensure the humanitarian aid reaches the refugees in the camp and those individuals who wish to leave the camp receive the needed support.\\n\\nThe Rukban camp lies in the US-controlled zone around its unauthorized military base in Syria's At-Tanf, making it hard for humanitarian workers to access.\\n\\nThe Syrian and Russian governments have repeatedly tried to draw the international community’s attention to the appalling conditions in which Rukban refugees live and to the United States' reluctance to let them leave the camp. However, the US State Department has said the United States is not preventing anyone from leaving the camp.\\n\\nSome 25,000 people remain in the camp as of July 19, according to the United Nations.\", 'art': '', 'action': 'add', 'credit': 'РИАН ', 'byline': '', 'document_type': 'article', 'language_code': 'en', 'title': 'UN Calls on All Parties to Syria Conflict to Allow Another Aid Delivery to Rukban - OCHA', 'copyright': '© 2019. Sputnik. All Rights Reserved. ', 'source_code': 'RVESEN', 'modification_date': '1564804096915', 'section': '', 'company_codes': ',unocha,unocha,unocha,usstat,usstat,utdnat,', 'publisher_name': 'Rossiya Segodnya International Information Agency', 'region_of_origin': 'ASIA EEURZ EUR RUSS USSRZ ', 'word_count': '303', 'subject_codes': ',gdev,gpir,gdip,gcat,', 'region_codes': ',syria,usa,asiaz,dvpcoz,meastz,medz,namz,wasiaz,', 'industry_codes': '', 'person_codes': '', 'currency_codes': '', 'market_index_codes': '', 'company_codes_about': ',utdnat,unocha,', 'company_codes_association': '', 'company_codes_lineage': '', 'company_codes_occur': ',usstat,unocha,', 'company_codes_relevance': ',usstat,unocha,', 'source_name': 'Sputnik News Service'}}\n"
     ]
    }
   ],
   "source": [
    "res = es.search(index=\"dj\", body={\n",
    "    \"query\": {\n",
    "        \"bool\" : {\n",
    "            \"must\" : [\n",
    "                {\"match\" : { \"body\" : my_topic},\n",
    "                 \"match\" : { \"body\" : target_pair[0]},\n",
    "                 \"match\" : { \"body\" : target_pair[1]},\n",
    "                }\n",
    "            ],\n",
    "            \"filter\" : { \n",
    "                \"range\": {\n",
    "                    \"publication_datetime\" : {\"gte\": \"now-60d\", \"lt\": \"now\"}\n",
    "                }\n",
    "            }\n",
    "        }\n",
    "    },\"sort\":{         \n",
    "            \"_score\": {\n",
    "                \"order\":\"desc\"\n",
    "                }\n",
    "            }\n",
    "})\n",
    "\n",
    "\n",
    "app_json = json.dumps(res['hits']['hits'][0])\n",
    "print(app_json)"
   ]
  },
  {
   "cell_type": "code",
   "execution_count": 8,
   "metadata": {
    "collapsed": true
   },
   "outputs": [],
   "source": [
    "# Example DJ Data model:\n",
    "import json\n",
    "obj = json.loads(\"\"\"{\n",
    "  \"_id\": \"ID\",\n",
    "  \"_index\": \"INDEX NAMEr\",\n",
    "  \"_score\": 0,\n",
    "  \"_source\": {\n",
    "    \"action\": \"add\",\n",
    "    \"an\": \"ARTICLE ID\",\n",
    "    \"art\": \"\",\n",
    "    \"body\": \"MAIN TEXT\",\n",
    "    \"byline\": \"\",\n",
    "    \"company_codes\": \"COMMA SEPERATED LIST\",\n",
    "    \"company_codes_about\": \"COMMA SEPERATED LIST\",\n",
    "    \"company_codes_association\": \"\",\n",
    "    \"company_codes_lineage\": \"\",\n",
    "    \"company_codes_occur\": \",ulvr,amesec,\",\n",
    "    \"company_codes_relevance\": \"COMMA SEPERATED LIST\",\n",
    "    \"copyright\": \"CW\",\n",
    "    \"credit\": \"\",\n",
    "    \"currency_codes\": \"\",\n",
    "    \"document_type\": \"article\",\n",
    "    \"industry_codes\": \"COMMA SEPERATED LIST\",\n",
    "    \"ingestion_datetime\": \"INT\",\n",
    "    \"language_code\": \"LANGUAGE CODE\",\n",
    "    \"market_index_codes\": \"\",\n",
    "    \"modification_date\": \"INT\",\n",
    "    \"modification_datetime\": \"INT\",\n",
    "    \"person_codes\": \"\",\n",
    "    \"publication_date\": \"INT\",\n",
    "    \"publication_datetime\": \"INT\",\n",
    "    \"publisher_name\": \"Business Wire, Inc.\",\n",
    "    \"region_codes\": \"COMMA SEPERATED LIST\",\n",
    "    \"region_of_origin\": \"NAMZ USA\",\n",
    "    \"snippet\": \"SAMPLE SNIPPET\",\n",
    "    \"source_code\": \"BWR\",\n",
    "    \"source_name\": \"Business Wire\",\n",
    "    \"subject_codes\": \"COMMA SEPERATED LIST\",\n",
    "    \"title\": \"TITLE\",\n",
    "    \"word_count\": \"INT\"\n",
    "  },\n",
    "  \"_type\": \"_doc\",\n",
    "  \"_version\": 1,\n",
    "  \"fields\": {\n",
    "    \"modification_datetime\": [\n",
    "      \"2014-01-02T19:02:26.000Z\"\n",
    "    ],\n",
    "    \"publication_datetime\": [\n",
    "      \"2014-01-02T19:02:00.000Z\"\n",
    "    ]\n",
    "  }\n",
    "}\"\"\")\n"
   ]
  }
 ],
 "metadata": {
  "kernelspec": {
   "display_name": "Python 3",
   "language": "python",
   "name": "python3"
  },
  "language_info": {
   "codemirror_mode": {
    "name": "ipython",
    "version": 3
   },
   "file_extension": ".py",
   "mimetype": "text/x-python",
   "name": "python",
   "nbconvert_exporter": "python",
   "pygments_lexer": "ipython3",
   "version": "3.6.3"
  }
 },
 "nbformat": 4,
 "nbformat_minor": 2
}

